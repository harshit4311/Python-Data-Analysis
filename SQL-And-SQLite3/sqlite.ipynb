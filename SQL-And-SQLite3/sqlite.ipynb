{
 "cells": [
  {
   "cell_type": "code",
   "execution_count": 1,
   "metadata": {},
   "outputs": [],
   "source": [
    "import sqlite3"
   ]
  },
  {
   "cell_type": "code",
   "execution_count": 2,
   "metadata": {},
   "outputs": [
    {
     "data": {
      "text/plain": [
       "<sqlite3.Connection at 0x107ab4540>"
      ]
     },
     "execution_count": 2,
     "metadata": {},
     "output_type": "execute_result"
    }
   ],
   "source": [
    "# connecting to a sqlite database\n",
    "\n",
    "connection = sqlite3.connect('example.db')\n",
    "connection"
   ]
  },
  {
   "cell_type": "code",
   "execution_count": 3,
   "metadata": {},
   "outputs": [],
   "source": [
    "cursor = connection.cursor()"
   ]
  },
  {
   "cell_type": "code",
   "execution_count": 4,
   "metadata": {},
   "outputs": [],
   "source": [
    "''' CREATE '''\n",
    "\n",
    "# creating table in our example.db \n",
    "\n",
    "cursor.execute(\n",
    "    ''' \n",
    "        CREATE TABLE IF NOT EXISTS Employees (\n",
    "            id INTEGER PRIMARY KEY,\n",
    "            name TEXT NOT NULL,\n",
    "            age INTEGER,\n",
    "            department TEXT\n",
    "        )\n",
    "    '''\n",
    ")\n",
    "\n",
    "\n",
    "# commit the above changes\n",
    "connection.commit()"
   ]
  },
  {
   "cell_type": "code",
   "execution_count": 6,
   "metadata": {},
   "outputs": [
    {
     "data": {
      "text/plain": [
       "<sqlite3.Cursor at 0x107ab8a40>"
      ]
     },
     "execution_count": 6,
     "metadata": {},
     "output_type": "execute_result"
    }
   ],
   "source": [
    "''' READ '''\n",
    "\n",
    "cursor.execute(\n",
    "    ''' \n",
    "    SELECT * FROM Employees\n",
    "    '''\n",
    ")"
   ]
  },
  {
   "cell_type": "code",
   "execution_count": 7,
   "metadata": {},
   "outputs": [
    {
     "data": {
      "text/plain": [
       "<sqlite3.Cursor at 0x107ab8a40>"
      ]
     },
     "execution_count": 7,
     "metadata": {},
     "output_type": "execute_result"
    }
   ],
   "source": [
    "''' INSERT '''\n",
    "\n",
    "# inserting data in our example.db database\n",
    "cursor.executemany(\n",
    "    ''' \n",
    "    INSERT INTO Employees (name, age, department)\n",
    "    VALUES (?, ?, ?)\n",
    "    ''',\n",
    "    [\n",
    "        ('Harshit', 19, 'Data Science'),\n",
    "        ('Bob', 25, 'Product'),\n",
    "        ('Krish', 32, 'Backend')\n",
    "    ]\n",
    ")"
   ]
  },
  {
   "cell_type": "code",
   "execution_count": 8,
   "metadata": {},
   "outputs": [],
   "source": [
    "# commit the changes\n",
    "connection.commit()"
   ]
  },
  {
   "cell_type": "code",
   "execution_count": 10,
   "metadata": {},
   "outputs": [
    {
     "name": "stdout",
     "output_type": "stream",
     "text": [
      "(1, 'Harshit', 19, 'Data Science')\n",
      "(2, 'Bob', 25, 'Product')\n",
      "(3, 'Krish', 32, 'Backend')\n"
     ]
    }
   ],
   "source": [
    "# querying the data from the table\n",
    "cursor.execute('SELECT * FROM Employees')\n",
    "rows = cursor.fetchall()\n",
    "\n",
    "# print the queried data\n",
    "for row in rows:\n",
    "    print(row)"
   ]
  },
  {
   "cell_type": "code",
   "execution_count": 11,
   "metadata": {},
   "outputs": [
    {
     "data": {
      "text/plain": [
       "<sqlite3.Cursor at 0x107ab8a40>"
      ]
     },
     "execution_count": 11,
     "metadata": {},
     "output_type": "execute_result"
    }
   ],
   "source": [
    "''' UPDATE '''\n",
    "\n",
    "# update the data in our table\n",
    "cursor.execute(\n",
    "    ''' \n",
    "    UPDATE Employees\n",
    "    SET age=34\n",
    "    WHERE name=\"Bob\"\n",
    "    '''\n",
    ")"
   ]
  },
  {
   "cell_type": "code",
   "execution_count": 12,
   "metadata": {},
   "outputs": [],
   "source": [
    "connection.commit()"
   ]
  },
  {
   "cell_type": "code",
   "execution_count": 13,
   "metadata": {},
   "outputs": [
    {
     "name": "stdout",
     "output_type": "stream",
     "text": [
      "(1, 'Harshit', 19, 'Data Science')\n",
      "(2, 'Bob', 34, 'Product')\n",
      "(3, 'Krish', 32, 'Backend')\n"
     ]
    }
   ],
   "source": [
    "# querying the data from the table\n",
    "cursor.execute('SELECT * FROM Employees')\n",
    "rows = cursor.fetchall()\n",
    "\n",
    "# print the queried data\n",
    "for row in rows:\n",
    "    print(row)"
   ]
  },
  {
   "cell_type": "code",
   "execution_count": 15,
   "metadata": {},
   "outputs": [
    {
     "data": {
      "text/plain": [
       "<sqlite3.Cursor at 0x107ab8a40>"
      ]
     },
     "execution_count": 15,
     "metadata": {},
     "output_type": "execute_result"
    }
   ],
   "source": [
    "''' DELETE '''\n",
    "\n",
    "# delete the data from the table\n",
    "cursor.execute(\n",
    "    '''\n",
    "    DELETE from Employees\n",
    "    WHERE name=\"Bob\"\n",
    "    '''\n",
    ")"
   ]
  },
  {
   "cell_type": "code",
   "execution_count": 17,
   "metadata": {},
   "outputs": [],
   "source": [
    "connection.commit()"
   ]
  },
  {
   "cell_type": "code",
   "execution_count": 18,
   "metadata": {},
   "outputs": [
    {
     "name": "stdout",
     "output_type": "stream",
     "text": [
      "(1, 'Harshit', 19, 'Data Science')\n",
      "(3, 'Krish', 32, 'Backend')\n"
     ]
    }
   ],
   "source": [
    "# querying the data from the table\n",
    "cursor.execute('SELECT * FROM Employees')\n",
    "rows = cursor.fetchall()\n",
    "\n",
    "# print the queried data\n",
    "for row in rows:\n",
    "    print(row)"
   ]
  }
 ],
 "metadata": {
  "kernelspec": {
   "display_name": "Python 3",
   "language": "python",
   "name": "python3"
  },
  "language_info": {
   "codemirror_mode": {
    "name": "ipython",
    "version": 3
   },
   "file_extension": ".py",
   "mimetype": "text/x-python",
   "name": "python",
   "nbconvert_exporter": "python",
   "pygments_lexer": "ipython3",
   "version": "3.10.12"
  }
 },
 "nbformat": 4,
 "nbformat_minor": 2
}
